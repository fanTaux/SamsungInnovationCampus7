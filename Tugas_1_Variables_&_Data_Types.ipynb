{
  "nbformat": 4,
  "nbformat_minor": 0,
  "metadata": {
    "colab": {
      "provenance": [],
      "authorship_tag": "ABX9TyNZVAqJzi2xW4m7WR2TL4pj",
      "include_colab_link": true
    },
    "kernelspec": {
      "name": "python3",
      "display_name": "Python 3"
    },
    "language_info": {
      "name": "python"
    }
  },
  "cells": [
    {
      "cell_type": "markdown",
      "metadata": {
        "id": "view-in-github",
        "colab_type": "text"
      },
      "source": [
        "<a href=\"https://colab.research.google.com/github/fanTaux/SamsungInnovationCampus7/blob/main/Tugas_1_Variables_%26_Data_Types.ipynb\" target=\"_parent\"><img src=\"https://colab.research.google.com/assets/colab-badge.svg\" alt=\"Open In Colab\"/></a>"
      ]
    },
    {
      "cell_type": "markdown",
      "source": [
        "Tugas 1 : Menyimpan dan Menampilkan Data"
      ],
      "metadata": {
        "id": "ZZ2hdeSjkWD2"
      }
    },
    {
      "cell_type": "code",
      "execution_count": null,
      "metadata": {
        "id": "JshS5fvSjP1U"
      },
      "outputs": [],
      "source": [
        "produk_pertama = \"Kopi Pagi\"\n",
        "harga_kopi = 18000.5\n",
        "produk_kedua = \"Roti Cokelat\"\n",
        "harga_roti = 10000\n",
        "status_kesediaan = True"
      ]
    },
    {
      "cell_type": "code",
      "source": [
        "print(\"Nama Produk 1:\", produk_pertama)\n",
        "print(\"Harga Produk 1:\", harga_kopi)\n",
        "print(\"Nama Produk 2:\", produk_kedua)\n",
        "print(\"Harga Produk 2:\", harga_roti)\n",
        "print(\"Status Kesediaan:\", status_kesediaan)"
      ],
      "metadata": {
        "colab": {
          "base_uri": "https://localhost:8080/"
        },
        "id": "ik5YeEv1kHk0",
        "outputId": "5027f113-8353-4b25-abdf-6e33886cc34a"
      },
      "execution_count": null,
      "outputs": [
        {
          "output_type": "stream",
          "name": "stdout",
          "text": [
            "Nama Produk 1: Kopi Pagi\n",
            "Harga Produk 1: 18000.5\n",
            "Nama Produk 2: Roti Cokelat\n",
            "Harga Produk 2: 10000\n",
            "Status Kesediaan: True\n"
          ]
        }
      ]
    },
    {
      "cell_type": "code",
      "source": [
        "print(type(status_kesediaan))"
      ],
      "metadata": {
        "colab": {
          "base_uri": "https://localhost:8080/"
        },
        "id": "bPqcvKI6jwe_",
        "outputId": "78897060-73c7-40c6-ad4f-409a19c0c779"
      },
      "execution_count": null,
      "outputs": [
        {
          "output_type": "stream",
          "name": "stdout",
          "text": [
            "<class 'bool'>\n"
          ]
        }
      ]
    },
    {
      "cell_type": "markdown",
      "source": [
        "Tugas 2 : Konversi Tipe Data dan Input Pengguna"
      ],
      "metadata": {
        "id": "04Ak84xakdba"
      }
    },
    {
      "cell_type": "code",
      "source": [
        "jumlah_kopi_str = input(\"Masukkan jumlah pesanan kopi : \")\n",
        "jumlah_roti_str = input(\"Masukkan jumlah pesanan roti : \")"
      ],
      "metadata": {
        "colab": {
          "base_uri": "https://localhost:8080/"
        },
        "id": "I3DSldlykdPR",
        "outputId": "fd572f87-7710-4670-fc23-93d3e9c48bec"
      },
      "execution_count": null,
      "outputs": [
        {
          "name": "stdout",
          "output_type": "stream",
          "text": [
            "Masukkan jumlah pesanan kopi : 2\n",
            "Masukkan jumlah pesanan roti : 3\n"
          ]
        }
      ]
    },
    {
      "cell_type": "code",
      "source": [
        "jumlah_kopi_int = jumlah_kopi_str\n",
        "jumlah_roti_int = jumlah_roti_str\n",
        "\n",
        "print(type(jumlah_kopi_str))\n",
        "print(type(jumlah_roti_str))\n",
        "\n",
        "jumlah_kopi_int = int(jumlah_kopi_str)\n",
        "jumlah_roti_int = int(jumlah_roti_str)\n",
        "\n",
        "print(type(jumlah_kopi_int))\n",
        "print(type(jumlah_roti_int))"
      ],
      "metadata": {
        "colab": {
          "base_uri": "https://localhost:8080/"
        },
        "id": "IurxVUPAl0Zp",
        "outputId": "c2b9311d-6f56-4edd-a46e-c7882c719b48"
      },
      "execution_count": null,
      "outputs": [
        {
          "output_type": "stream",
          "name": "stdout",
          "text": [
            "<class 'int'>\n",
            "<class 'int'>\n",
            "<class 'int'>\n",
            "<class 'int'>\n"
          ]
        }
      ]
    },
    {
      "cell_type": "markdown",
      "source": [
        "Tugas 3 : Operasi pada Angka"
      ],
      "metadata": {
        "id": "4ZWFQbBRnEqT"
      }
    },
    {
      "cell_type": "code",
      "source": [
        "harga_kopi = 18000.5\n",
        "harga_roti = 10000\n",
        "jumlah_kopi_int = 2\n",
        "jumlah_roti_int = 3"
      ],
      "metadata": {
        "id": "jnJCXs_rnEZ4"
      },
      "execution_count": 2,
      "outputs": []
    },
    {
      "cell_type": "code",
      "source": [
        "total_belanja = (harga_kopi * jumlah_kopi_int) + (harga_roti * jumlah_roti_int)\n",
        "uang_bayar = 50000\n",
        "kembalian = uang_bayar - total_belanja\n",
        "print(\"Total harga kopi : \", harga_kopi * jumlah_kopi_int)\n",
        "print(\"Total harga roti : \", harga_roti * jumlah_roti_int)\n",
        "print(\"Total belanja :\", total_belanja)\n",
        "print(\"Uang yang dibayarkan : \", uang_bayar)\n",
        "print(\"Kembalian\", kembalian)"
      ],
      "metadata": {
        "colab": {
          "base_uri": "https://localhost:8080/"
        },
        "id": "cmteUxlaoSGU",
        "outputId": "52ec7a0a-6288-4a06-aedd-5befdd149b42"
      },
      "execution_count": null,
      "outputs": [
        {
          "output_type": "stream",
          "name": "stdout",
          "text": [
            "Total harga kopi :  36001.0\n",
            "Total harga roti :  30000\n",
            "Total belanja : 66001.0\n",
            "Uang yang dibayarkan :  50000\n",
            "Kembalian -16001.0\n"
          ]
        }
      ]
    },
    {
      "cell_type": "markdown",
      "source": [
        "Tugas 4 : Operasi pada String"
      ],
      "metadata": {
        "id": "e-jACUkEp5dc"
      }
    },
    {
      "cell_type": "code",
      "source": [
        "nama_pelanggan = input(\"Masukkan nama pelanggan : \")\n",
        "pesan_terima_kasih = (\"Terima kasih, \" + nama_pelanggan + \" sudah berbelanja di Coffee Shop Bahagia!\")\n",
        "bintang_pemisah = \"*\" * 25\n",
        "total_harga = f\"Total harga Kopi Pagi adalah Rp{harga_kopi * jumlah_kopi_int}\"\n",
        "\n",
        "print(bintang_pemisah, end=\"\\n\\n\")\n",
        "print(pesan_terima_kasih, end=\"\\n\\n\")\n",
        "print(bintang_pemisah)\n",
        "\n",
        "print(total_harga)"
      ],
      "metadata": {
        "colab": {
          "base_uri": "https://localhost:8080/"
        },
        "id": "cNRm1O27p7UF",
        "outputId": "420272ce-6e89-4e29-b6b8-639324a9ac0c"
      },
      "execution_count": 3,
      "outputs": [
        {
          "output_type": "stream",
          "name": "stdout",
          "text": [
            "Masukkan nama pelanggan : Farizz\n",
            "*************************\n",
            "\n",
            "Terima kasih, Farizz sudah berbelanja di Coffee Shop Bahagia!\n",
            "\n",
            "*************************\n",
            "Total harga Kopi Pagi adalah Rp36001.0\n"
          ]
        }
      ]
    }
  ]
}